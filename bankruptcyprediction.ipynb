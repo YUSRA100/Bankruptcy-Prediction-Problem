{
 "cells": [
  {
   "cell_type": "markdown",
   "metadata": {},
   "source": [
    "Importing all necessary packages"
   ]
  },
  {
   "cell_type": "code",
   "execution_count": 1,
   "metadata": {},
   "outputs": [],
   "source": [
    "import numpy as np\n",
    "import pandas as pd\n",
    "import matplotlib.pyplot as plt\n",
    "import seaborn as sns\n",
    "sns.set()\n",
    "%matplotlib inline"
   ]
  },
  {
   "cell_type": "markdown",
   "metadata": {},
   "source": [
    "### Loading Data"
   ]
  },
  {
   "cell_type": "code",
   "execution_count": 109,
   "metadata": {
    "scrolled": true
   },
   "outputs": [
    {
     "data": {
      "text/html": [
       "<div>\n",
       "<style scoped>\n",
       "    .dataframe tbody tr th:only-of-type {\n",
       "        vertical-align: middle;\n",
       "    }\n",
       "\n",
       "    .dataframe tbody tr th {\n",
       "        vertical-align: top;\n",
       "    }\n",
       "\n",
       "    .dataframe thead th {\n",
       "        text-align: right;\n",
       "    }\n",
       "</style>\n",
       "<table border=\"1\" class=\"dataframe\">\n",
       "  <thead>\n",
       "    <tr style=\"text-align: right;\">\n",
       "      <th></th>\n",
       "      <th>Firm</th>\n",
       "      <th>WC</th>\n",
       "      <th>Category</th>\n",
       "    </tr>\n",
       "  </thead>\n",
       "  <tbody>\n",
       "    <tr>\n",
       "      <th>0</th>\n",
       "      <td>1</td>\n",
       "      <td>309.577</td>\n",
       "      <td>1</td>\n",
       "    </tr>\n",
       "    <tr>\n",
       "      <th>1</th>\n",
       "      <td>2</td>\n",
       "      <td>363.790</td>\n",
       "      <td>1</td>\n",
       "    </tr>\n",
       "    <tr>\n",
       "      <th>2</th>\n",
       "      <td>3</td>\n",
       "      <td>341.399</td>\n",
       "      <td>1</td>\n",
       "    </tr>\n",
       "    <tr>\n",
       "      <th>3</th>\n",
       "      <td>4</td>\n",
       "      <td>363.616</td>\n",
       "      <td>1</td>\n",
       "    </tr>\n",
       "    <tr>\n",
       "      <th>4</th>\n",
       "      <td>5</td>\n",
       "      <td>323.673</td>\n",
       "      <td>1</td>\n",
       "    </tr>\n",
       "  </tbody>\n",
       "</table>\n",
       "</div>"
      ],
      "text/plain": [
       "   Firm       WC  Category\n",
       "0     1  309.577         1\n",
       "1     2  363.790         1\n",
       "2     3  341.399         1\n",
       "3     4  363.616         1\n",
       "4     5  323.673         1"
      ]
     },
     "execution_count": 109,
     "metadata": {},
     "output_type": "execute_result"
    }
   ],
   "source": [
    "# write code here\n",
    "data = pd.read_csv('mittrain.csv')\n",
    "df = data.copy()\n",
    "df.head()"
   ]
  },
  {
   "cell_type": "code",
   "execution_count": 110,
   "metadata": {},
   "outputs": [
    {
     "data": {
      "text/html": [
       "<div>\n",
       "<style scoped>\n",
       "    .dataframe tbody tr th:only-of-type {\n",
       "        vertical-align: middle;\n",
       "    }\n",
       "\n",
       "    .dataframe tbody tr th {\n",
       "        vertical-align: top;\n",
       "    }\n",
       "\n",
       "    .dataframe thead th {\n",
       "        text-align: right;\n",
       "    }\n",
       "</style>\n",
       "<table border=\"1\" class=\"dataframe\">\n",
       "  <thead>\n",
       "    <tr style=\"text-align: right;\">\n",
       "      <th></th>\n",
       "      <th>Firm</th>\n",
       "      <th>WC</th>\n",
       "    </tr>\n",
       "  </thead>\n",
       "  <tbody>\n",
       "    <tr>\n",
       "      <th>0</th>\n",
       "      <td>1</td>\n",
       "      <td>367.325</td>\n",
       "    </tr>\n",
       "    <tr>\n",
       "      <th>1</th>\n",
       "      <td>2</td>\n",
       "      <td>347.513</td>\n",
       "    </tr>\n",
       "    <tr>\n",
       "      <th>2</th>\n",
       "      <td>3</td>\n",
       "      <td>330.226</td>\n",
       "    </tr>\n",
       "    <tr>\n",
       "      <th>3</th>\n",
       "      <td>4</td>\n",
       "      <td>178.106</td>\n",
       "    </tr>\n",
       "    <tr>\n",
       "      <th>4</th>\n",
       "      <td>5</td>\n",
       "      <td>378.899</td>\n",
       "    </tr>\n",
       "  </tbody>\n",
       "</table>\n",
       "</div>"
      ],
      "text/plain": [
       "   Firm       WC\n",
       "0     1  367.325\n",
       "1     2  347.513\n",
       "2     3  330.226\n",
       "3     4  178.106\n",
       "4     5  378.899"
      ]
     },
     "execution_count": 110,
     "metadata": {},
     "output_type": "execute_result"
    }
   ],
   "source": [
    "dftest = pd.read_csv('mittest.csv')\n",
    "dftest.head()"
   ]
  },
  {
   "cell_type": "code",
   "execution_count": 3,
   "metadata": {},
   "outputs": [
    {
     "data": {
      "text/plain": [
       "Firm          int64\n",
       "WC          float64\n",
       "Category      int64\n",
       "dtype: object"
      ]
     },
     "execution_count": 3,
     "metadata": {},
     "output_type": "execute_result"
    }
   ],
   "source": [
    "df.dtypes"
   ]
  },
  {
   "cell_type": "markdown",
   "metadata": {},
   "source": [
    "### Create dependent and independent varaibles"
   ]
  },
  {
   "cell_type": "code",
   "execution_count": 111,
   "metadata": {},
   "outputs": [],
   "source": [
    "# write code here\n",
    "X = df.drop(['Category'], axis=1)\n",
    "Y = df['Category']"
   ]
  },
  {
   "cell_type": "code",
   "execution_count": 112,
   "metadata": {},
   "outputs": [
    {
     "data": {
      "text/plain": [
       "0    1\n",
       "1    1\n",
       "2    1\n",
       "3    1\n",
       "4    1\n",
       "Name: Category, dtype: int64"
      ]
     },
     "execution_count": 112,
     "metadata": {},
     "output_type": "execute_result"
    }
   ],
   "source": [
    "Y.head()"
   ]
  },
  {
   "cell_type": "markdown",
   "metadata": {},
   "source": [
    "### Split the data into training and testing set and set the random state to 100"
   ]
  },
  {
   "cell_type": "code",
   "execution_count": 18,
   "metadata": {},
   "outputs": [],
   "source": [
    "from sklearn.model_selection import train_test_split"
   ]
  },
  {
   "cell_type": "code",
   "execution_count": 52,
   "metadata": {},
   "outputs": [
    {
     "name": "stdout",
     "output_type": "stream",
     "text": [
      "(40, 2) (40,)\n",
      "(28, 2) (28,)\n"
     ]
    }
   ],
   "source": [
    "# Write code here\n",
    "xtrain ,xtest, ytrain, ytest= train_test_split(X, Y, test_size=0.4, random_state=100, shuffle=True)\n",
    "print(xtrain.shape, ytrain.shape)\n",
    "print(xtest.shape, ytest.shape)"
   ]
  },
  {
   "cell_type": "markdown",
   "metadata": {},
   "source": [
    "##  Logistic Regression classifier"
   ]
  },
  {
   "cell_type": "code",
   "execution_count": 142,
   "metadata": {
    "scrolled": true
   },
   "outputs": [
    {
     "data": {
      "text/plain": [
       "LogisticRegression(C=1.0, class_weight=None, dual=False, fit_intercept=True,\n",
       "                   intercept_scaling=1, l1_ratio=None, max_iter=100,\n",
       "                   multi_class='auto', n_jobs=None, penalty='l2',\n",
       "                   random_state=25, solver='lbfgs', tol=0.0001, verbose=0,\n",
       "                   warm_start=False)"
      ]
     },
     "execution_count": 142,
     "metadata": {},
     "output_type": "execute_result"
    }
   ],
   "source": [
    "from sklearn.linear_model import LogisticRegression\n",
    "lr_model = LogisticRegression(random_state=25)\n",
    "lr_model.fit(X, Y)"
   ]
  },
  {
   "cell_type": "code",
   "execution_count": 143,
   "metadata": {},
   "outputs": [],
   "source": [
    "pred = lr_model.predict(dftest)"
   ]
  },
  {
   "cell_type": "code",
   "execution_count": 144,
   "metadata": {},
   "outputs": [
    {
     "name": "stdout",
     "output_type": "stream",
     "text": [
      "Accuracy by built-in function: 0.5882352941176471\n",
      "Precision by built-in function: 0.5882352941176471\n",
      "Recall by built-in function: 0.5882352941176471\n",
      "F1 Score by built-in function: 0.5882352941176471\n"
     ]
    }
   ],
   "source": [
    "accuracy_lr = accuracy_score(Y,pred)\n",
    "print(\"Accuracy by built-in function: {}\".format(accuracy_lr))\n",
    "\n",
    "precision_lr = precision_score(Y,pred)\n",
    "print(\"Precision by built-in function: {}\".format(precision_lr))\n",
    "\n",
    "recall_lr = recall_score(Y,pred)\n",
    "print(\"Recall by built-in function: {}\".format(recall_lr))\n",
    "\n",
    "f1_lr=f1_score(Y,pred)\n",
    "print(\"F1 Score by built-in function: {}\".format(f1_lr))"
   ]
  },
  {
   "cell_type": "code",
   "execution_count": 145,
   "metadata": {},
   "outputs": [
    {
     "name": "stdout",
     "output_type": "stream",
     "text": [
      "              precision    recall  f1-score   support\n",
      "\n",
      "           0       0.59      0.59      0.59        34\n",
      "           1       0.59      0.59      0.59        34\n",
      "\n",
      "    accuracy                           0.59        68\n",
      "   macro avg       0.59      0.59      0.59        68\n",
      "weighted avg       0.59      0.59      0.59        68\n",
      "\n"
     ]
    }
   ],
   "source": [
    "from sklearn.metrics import classification_report\n",
    "print(classification_report(Y,pred)) "
   ]
  },
  {
   "cell_type": "code",
   "execution_count": 190,
   "metadata": {},
   "outputs": [],
   "source": [
    "convert1=pd.DataFrame(pred.flatten())\n",
    "convert1.to_csv('lgpred.csv', index=False)"
   ]
  },
  {
   "cell_type": "code",
   "execution_count": 173,
   "metadata": {},
   "outputs": [
    {
     "name": "stderr",
     "output_type": "stream",
     "text": [
      "C:\\Users\\haier pc\\AppData\\Roaming\\Python\\Python37\\site-packages\\sklearn\\base.py:197: FutureWarning: From version 0.24, get_params will raise an AttributeError if a parameter cannot be retrieved as an instance attribute. Previously it would return None.\n",
      "  FutureWarning)\n"
     ]
    },
    {
     "data": {
      "image/png": "[encoded data removed]",
      "text/plain": [
       "<Figure size 576x396 with 2 Axes>"
      ]
     },
     "metadata": {},
     "output_type": "display_data"
    },
    {
     "data": {
      "text/plain": [
       "<matplotlib.axes._subplots.AxesSubplot at 0x2ef363f128>"
      ]
     },
     "execution_count": 173,
     "metadata": {},
     "output_type": "execute_result"
    }
   ],
   "source": [
    "from yellowbrick.classifier import ClassificationReport\n",
    "from sklearn.linear_model import LogisticRegression\n",
    "viz = ClassificationReport(LogisticRegression())\n",
    "viz.fit(X, Y)\n",
    "viz.score(dftest, predicted)\n",
    "viz.show()"
   ]
  },
  {
   "cell_type": "markdown",
   "metadata": {},
   "source": [
    "## Naive Bayes Classification"
   ]
  },
  {
   "cell_type": "code",
   "execution_count": 160,
   "metadata": {},
   "outputs": [
    {
     "data": {
      "text/plain": [
       "GaussianNB(priors=None, var_smoothing=1e-09)"
      ]
     },
     "execution_count": 160,
     "metadata": {},
     "output_type": "execute_result"
    }
   ],
   "source": [
    "from sklearn.naive_bayes import GaussianNB\n",
    "model = GaussianNB()\n",
    "model.fit(X,Y)"
   ]
  },
  {
   "cell_type": "code",
   "execution_count": 161,
   "metadata": {},
   "outputs": [
    {
     "name": "stdout",
     "output_type": "stream",
     "text": [
      "Predicted Value: [1 1 1 1 1 1 1 1 1 1 0 0 0 0 0 0 0 0 0 0 1 1 1 1 1 1 1 1 1 1 0 0 0 0 0 0 0\n",
      " 0 0 0 1 1 1 1 1 1 0 0 0 0 0 0 0 0 0 0 0 0 0 0 0 0 0 0 0 0 0 0]\n"
     ]
    }
   ],
   "source": [
    "#Predict Output\n",
    "predicted= model.predict(dftest) # 0:Overcast, 2:Mild\n",
    "print(\"Predicted Value:\", predicted)"
   ]
  },
  {
   "cell_type": "code",
   "execution_count": 163,
   "metadata": {},
   "outputs": [
    {
     "name": "stdout",
     "output_type": "stream",
     "text": [
      "Accuracy by Naive Bayes: 0.7058823529411765\n",
      "Precision by  Naive Bayes: 0.7692307692307693\n",
      "Recall by  Naive Bayes: 0.5882352941176471\n",
      "F1 Score by  Naive Bayes: 0.6666666666666667\n"
     ]
    }
   ],
   "source": [
    "accuracy_nb = accuracy_score(Y,predicted)\n",
    "print(\"Accuracy by Naive Bayes: {}\".format(accuracy_nb))\n",
    "\n",
    "precision_nb = precision_score(Y,predicted)\n",
    "print(\"Precision by  Naive Bayes: {}\".format(precision_nb))\n",
    "\n",
    "recall_nb = recall_score(Y,predicted)\n",
    "print(\"Recall by  Naive Bayes: {}\".format(recall_nb))\n",
    "\n",
    "f1_nb=f1_score(Y,predicted)\n",
    "print(\"F1 Score by  Naive Bayes: {}\".format(f1_nb))\n",
    " "
   ]
  },
  {
   "cell_type": "code",
   "execution_count": 164,
   "metadata": {
    "scrolled": true
   },
   "outputs": [
    {
     "name": "stdout",
     "output_type": "stream",
     "text": [
      "              precision    recall  f1-score   support\n",
      "\n",
      "           0       0.67      0.82      0.74        34\n",
      "           1       0.77      0.59      0.67        34\n",
      "\n",
      "    accuracy                           0.71        68\n",
      "   macro avg       0.72      0.71      0.70        68\n",
      "weighted avg       0.72      0.71      0.70        68\n",
      "\n"
     ]
    }
   ],
   "source": [
    "print(classification_report(Y,predicted)) "
   ]
  },
  {
   "cell_type": "code",
   "execution_count": 193,
   "metadata": {},
   "outputs": [],
   "source": [
    "convert1=pd.DataFrame(predicted.flatten())\n",
    "convert1.to_csv('nbpred.csv', index=False)"
   ]
  },
  {
   "cell_type": "code",
   "execution_count": 147,
   "metadata": {},
   "outputs": [
    {
     "name": "stderr",
     "output_type": "stream",
     "text": [
      "C:\\Users\\haier pc\\AppData\\Roaming\\Python\\Python37\\site-packages\\sklearn\\base.py:197: FutureWarning: From version 0.24, get_params will raise an AttributeError if a parameter cannot be retrieved as an instance attribute. Previously it would return None.\n",
      "  FutureWarning)\n"
     ]
    },
    {
     "data": {
      "image/png": "[encoded data removed]",
      "text/plain": [
       "<Figure size 576x396 with 2 Axes>"
      ]
     },
     "metadata": {},
     "output_type": "display_data"
    },
    {
     "data": {
      "text/plain": [
       "<matplotlib.axes._subplots.AxesSubplot at 0x2ef31652e8>"
      ]
     },
     "execution_count": 147,
     "metadata": {},
     "output_type": "execute_result"
    }
   ],
   "source": [
    "from yellowbrick.classifier import ClassificationReport\n",
    "from sklearn.naive_bayes import GaussianNB\n",
    "bayes = GaussianNB()\n",
    "classes=['bankrupt','nonbankrupt']\n",
    "visualizer=ClassificationReport(bayes,classes=classes)\n",
    "\n",
    "visualizer.fit(X_train, y_train)\n",
    "visualizer.score(X_test, y_test)\n",
    "visualizer.poof()"
   ]
  },
  {
   "cell_type": "code",
   "execution_count": 178,
   "metadata": {},
   "outputs": [
    {
     "name": "stderr",
     "output_type": "stream",
     "text": [
      "C:\\Users\\haier pc\\AppData\\Roaming\\Python\\Python37\\site-packages\\sklearn\\base.py:197: FutureWarning: From version 0.24, get_params will raise an AttributeError if a parameter cannot be retrieved as an instance attribute. Previously it would return None.\n",
      "  FutureWarning)\n"
     ]
    },
    {
     "data": {
      "image/png": "[encoded data removed]",
      "text/plain": [
       "<Figure size 576x396 with 1 Axes>"
      ]
     },
     "metadata": {},
     "output_type": "display_data"
    }
   ],
   "source": [
    "from sklearn.naive_bayes import BernoulliNB\n",
    "from sklearn.model_selection import train_test_split as tts\n",
    "from yellowbrick.classifier import precision_recall_curve\n",
    "from yellowbrick.datasets import load_spam\n",
    "\n",
    "# Create the visualizer, fit, score, and show it\n",
    "viz = precision_recall_curve(BernoulliNB(), X, Y, dftest, predicted)"
   ]
  },
  {
   "cell_type": "markdown",
   "metadata": {},
   "source": [
    "## SVM Classification"
   ]
  },
  {
   "cell_type": "code",
   "execution_count": 195,
   "metadata": {},
   "outputs": [
    {
     "data": {
      "text/plain": [
       "SVC(C=1.0, break_ties=False, cache_size=200, class_weight=None, coef0=0.0,\n",
       "    decision_function_shape='ovr', degree=3, gamma='scale', kernel='linear',\n",
       "    max_iter=-1, probability=False, random_state=None, shrinking=True,\n",
       "    tol=0.001, verbose=False)"
      ]
     },
     "execution_count": 195,
     "metadata": {},
     "output_type": "execute_result"
    }
   ],
   "source": [
    "#Import svm model\n",
    "from sklearn import svm\n",
    "clf = svm.SVC(kernel='linear') # Linear Kernel\n",
    "#Train the model using the training sets\n",
    "clf.fit(X, Y)"
   ]
  },
  {
   "cell_type": "code",
   "execution_count": 196,
   "metadata": {},
   "outputs": [],
   "source": [
    "#Predict the response for test dataset\n",
    "y_pred = clf.predict(dftest)"
   ]
  },
  {
   "cell_type": "code",
   "execution_count": 197,
   "metadata": {},
   "outputs": [
    {
     "data": {
      "text/plain": [
       "array([1, 1, 1, 1, 1, 1, 1, 1, 1, 1, 0, 0, 0, 0, 0, 0, 0, 0, 0, 0, 1, 1,\n",
       "       1, 1, 1, 1, 1, 1, 1, 1, 0, 0, 0, 0, 0, 0, 0, 0, 0, 0, 1, 1, 1, 1,\n",
       "       1, 1, 1, 1, 1, 1, 1, 1, 1, 1, 0, 0, 0, 0, 0, 0, 0, 0, 0, 0, 0, 0,\n",
       "       0, 0], dtype=int64)"
      ]
     },
     "execution_count": 197,
     "metadata": {},
     "output_type": "execute_result"
    }
   ],
   "source": [
    "y_pred"
   ]
  },
  {
   "cell_type": "code",
   "execution_count": 198,
   "metadata": {},
   "outputs": [
    {
     "name": "stdout",
     "output_type": "stream",
     "text": [
      "Accuracy: 0.5882352941176471\n",
      "Accuracy: 0.5882352941176471\n",
      "Accuracy: 0.5882352941176471\n"
     ]
    }
   ],
   "source": [
    "from sklearn import metrics\n",
    "print(\"Accuracy:\",metrics.accuracy_score(Y, y_pred))\n",
    "print(\"Accuracy:\",metrics.precision_score(Y, y_pred))\n",
    "print(\"Accuracy:\",metrics.recall_score(Y, y_pred))"
   ]
  },
  {
   "cell_type": "code",
   "execution_count": 199,
   "metadata": {},
   "outputs": [
    {
     "name": "stdout",
     "output_type": "stream",
     "text": [
      "Precision: 0.5882352941176471\n",
      "Recall: 0.5882352941176471\n"
     ]
    }
   ],
   "source": [
    "print(\"Precision:\",metrics.precision_score(Y, y_pred))\n",
    "\n",
    "# Model Recall: what percentage of positive tuples are labelled as such?\n",
    "print(\"Recall:\",metrics.recall_score(Y, y_pred))"
   ]
  },
  {
   "cell_type": "code",
   "execution_count": 201,
   "metadata": {},
   "outputs": [],
   "source": [
    "convert1=pd.DataFrame(y_pred.flatten())\n",
    "convert1.to_csv('svmpred.csv', index=False)"
   ]
  },
  {
   "cell_type": "code",
   "execution_count": 177,
   "metadata": {},
   "outputs": [
    {
     "name": "stderr",
     "output_type": "stream",
     "text": [
      "C:\\Users\\haier pc\\AppData\\Roaming\\Python\\Python37\\site-packages\\sklearn\\base.py:197: FutureWarning: From version 0.24, get_params will raise an AttributeError if a parameter cannot be retrieved as an instance attribute. Previously it would return None.\n",
      "  FutureWarning)\n",
      "C:\\Users\\haier pc\\AppData\\Roaming\\Python\\Python37\\site-packages\\sklearn\\svm\\_base.py:947: ConvergenceWarning: Liblinear failed to converge, increase the number of iterations.\n",
      "  \"the number of iterations.\", ConvergenceWarning)\n"
     ]
    },
    {
     "data": {
      "image/png": "[encoded data removed]",
      "text/plain": [
       "<Figure size 576x396 with 1 Axes>"
      ]
     },
     "metadata": {},
     "output_type": "display_data"
    },
    {
     "data": {
      "text/plain": [
       "<matplotlib.axes._subplots.AxesSubplot at 0x2ef3c1df98>"
      ]
     },
     "execution_count": 177,
     "metadata": {},
     "output_type": "execute_result"
    }
   ],
   "source": [
    "from yellowbrick.classifier import PrecisionRecallCurve\n",
    "from sklearn.model_selection import train_test_split\n",
    "from sklearn.svm import LinearSVC\n",
    "#X_train, X_test, y_train, y_test = train_test_split(X, y)\n",
    "viz = PrecisionRecallCurve(LinearSVC())\n",
    "viz.fit(X, Y)\n",
    "viz.score(dftest, predicted)\n",
    "viz.show()"
   ]
  },
  {
   "cell_type": "markdown",
   "metadata": {},
   "source": [
    "## Binary Classification with Neural Networks"
   ]
  },
  {
   "cell_type": "code",
   "execution_count": 88,
   "metadata": {},
   "outputs": [],
   "source": [
    "from pandas import read_csv\n",
    "from keras.models import Sequential\n",
    "from keras.layers import Dense\n",
    "from keras.wrappers.scikit_learn import KerasClassifier\n",
    "from sklearn.model_selection import cross_val_score\n",
    "from sklearn.preprocessing import LabelEncoder\n",
    "from sklearn.model_selection import StratifiedKFold\n",
    "# load dataset\n",
    "dataframe = read_csv(\"mittrain.csv\", header=None)\n",
    "dataset = dataframe.values\n",
    "Xn = dataset[1:,0:2].astype(float)\n",
    "Yn = dataset[1:,2]"
   ]
  },
  {
   "cell_type": "code",
   "execution_count": 96,
   "metadata": {},
   "outputs": [
    {
     "name": "stdout",
     "output_type": "stream",
     "text": [
      "Baseline: 47.14% (5.71%)\n"
     ]
    }
   ],
   "source": [
    "def create_baseline():\n",
    "    model = Sequential()\n",
    "    model.add(Dense(2, input_dim=2, activation='relu'))\n",
    "    model.add(Dense(1, activation='sigmoid'))\n",
    "    model.compile(loss='binary_crossentropy', optimizer='adam', metrics=['accuracy'])\n",
    "    return model\n",
    "estimator = KerasClassifier(build_fn=create_baseline, epochs=100, batch_size=5, verbose=0)\n",
    "kfold = StratifiedKFold(n_splits=10, shuffle=True)\n",
    "results = cross_val_score(estimator, Xn, Yn, cv=kfold)\n",
    "print(\"Baseline: %.2f%% (%.2f%%)\" % (results.mean()*100, results.std()*100))"
   ]
  },
  {
   "cell_type": "markdown",
   "metadata": {},
   "source": [
    "## Neural Network Predictions"
   ]
  },
  {
   "cell_type": "code",
   "execution_count": 152,
   "metadata": {},
   "outputs": [],
   "source": [
    "import pandas as pd\n",
    "import tensorflow as tf\n",
    "from tensorflow import keras\n",
    "from sklearn.model_selection import train_test_split\n",
    "import numpy as np\n",
    "\n",
    "X_train, X_test, y_train, y_test = train_test_split(X, Y, test_size=0.3, random_state=0)\n",
    "\n",
    "model = keras.Sequential([\n",
    "    keras.layers.Flatten(input_shape=(2,)),\n",
    "    keras.layers.Dense(16, activation=tf.nn.relu),\n",
    "\tkeras.layers.Dense(16, activation=tf.nn.relu),\n",
    "    keras.layers.Dense(1, activation=tf.nn.sigmoid),\n",
    "])\n",
    "\n",
    "model.compile(optimizer='adam',\n",
    "              loss='binary_crossentropy',\n",
    "              metrics=['accuracy'])\n"
   ]
  },
  {
   "cell_type": "code",
   "execution_count": 157,
   "metadata": {
    "scrolled": true
   },
   "outputs": [
    {
     "name": "stdout",
     "output_type": "stream",
     "text": [
      "Epoch 1/50\n",
      "68/68 [==============================] - 0s 2ms/sample - loss: 0.0619 - acc: 0.9706\n",
      "Epoch 2/50\n",
      "68/68 [==============================] - 0s 2ms/sample - loss: 0.0933 - acc: 0.9706\n",
      "Epoch 3/50\n",
      "68/68 [==============================] - 0s 2ms/sample - loss: 0.0346 - acc: 1.0000\n",
      "Epoch 4/50\n",
      "68/68 [==============================] - 0s 2ms/sample - loss: 0.1007 - acc: 0.9559\n",
      "Epoch 5/50\n",
      "68/68 [==============================] - 0s 2ms/sample - loss: 0.0917 - acc: 0.9559\n",
      "Epoch 6/50\n",
      "68/68 [==============================] - 0s 2ms/sample - loss: 1.7920 - acc: 0.7206\n",
      "Epoch 7/50\n",
      "68/68 [==============================] - 0s 2ms/sample - loss: 1.1539 - acc: 0.7206\n",
      "Epoch 8/50\n",
      "68/68 [==============================] - 0s 2ms/sample - loss: 0.2193 - acc: 0.9118\n",
      "Epoch 9/50\n",
      "68/68 [==============================] - 0s 2ms/sample - loss: 0.0667 - acc: 0.9706\n",
      "Epoch 10/50\n",
      "68/68 [==============================] - 0s 2ms/sample - loss: 0.0452 - acc: 1.0000\n",
      "Epoch 11/50\n",
      "68/68 [==============================] - 0s 2ms/sample - loss: 0.0905 - acc: 0.9559\n",
      "Epoch 12/50\n",
      "68/68 [==============================] - 0s 2ms/sample - loss: 0.1532 - acc: 0.9265\n",
      "Epoch 13/50\n",
      "68/68 [==============================] - 0s 2ms/sample - loss: 0.0389 - acc: 1.0000\n",
      "Epoch 14/50\n",
      "68/68 [==============================] - 0s 2ms/sample - loss: 0.0639 - acc: 0.9706\n",
      "Epoch 15/50\n",
      "68/68 [==============================] - 0s 2ms/sample - loss: 0.0881 - acc: 0.9706\n",
      "Epoch 16/50\n",
      "68/68 [==============================] - 0s 2ms/sample - loss: 0.0473 - acc: 0.9853\n",
      "Epoch 17/50\n",
      "68/68 [==============================] - 0s 2ms/sample - loss: 0.0199 - acc: 1.0000\n",
      "Epoch 18/50\n",
      "68/68 [==============================] - 0s 2ms/sample - loss: 0.0276 - acc: 1.0000\n",
      "Epoch 19/50\n",
      "68/68 [==============================] - 0s 2ms/sample - loss: 0.0311 - acc: 1.0000\n",
      "Epoch 20/50\n",
      "68/68 [==============================] - 0s 2ms/sample - loss: 0.0408 - acc: 0.9853\n",
      "Epoch 21/50\n",
      "68/68 [==============================] - 0s 2ms/sample - loss: 0.0308 - acc: 1.0000\n",
      "Epoch 22/50\n",
      "68/68 [==============================] - 0s 2ms/sample - loss: 0.0543 - acc: 0.9853\n",
      "Epoch 23/50\n",
      "68/68 [==============================] - 0s 2ms/sample - loss: 0.0170 - acc: 1.0000\n",
      "Epoch 24/50\n",
      "68/68 [==============================] - 0s 2ms/sample - loss: 0.0174 - acc: 1.0000\n",
      "Epoch 25/50\n",
      "68/68 [==============================] - 0s 2ms/sample - loss: 0.0434 - acc: 0.9706\n",
      "Epoch 26/50\n",
      "68/68 [==============================] - 0s 2ms/sample - loss: 0.0498 - acc: 0.9853\n",
      "Epoch 27/50\n",
      "68/68 [==============================] - 0s 2ms/sample - loss: 0.0180 - acc: 1.0000\n",
      "Epoch 28/50\n",
      "68/68 [==============================] - 0s 2ms/sample - loss: 0.0212 - acc: 1.0000\n",
      "Epoch 29/50\n",
      "68/68 [==============================] - 0s 2ms/sample - loss: 0.0571 - acc: 0.9706\n",
      "Epoch 30/50\n",
      "68/68 [==============================] - 0s 2ms/sample - loss: 0.0177 - acc: 1.0000\n",
      "Epoch 31/50\n",
      "68/68 [==============================] - 0s 2ms/sample - loss: 0.0449 - acc: 1.0000\n",
      "Epoch 32/50\n",
      "68/68 [==============================] - 0s 2ms/sample - loss: 0.0863 - acc: 0.9559\n",
      "Epoch 33/50\n",
      "68/68 [==============================] - 0s 2ms/sample - loss: 0.0364 - acc: 0.9853\n",
      "Epoch 34/50\n",
      "68/68 [==============================] - 0s 2ms/sample - loss: 0.0183 - acc: 1.0000\n",
      "Epoch 35/50\n",
      "68/68 [==============================] - 0s 2ms/sample - loss: 0.0172 - acc: 1.0000\n",
      "Epoch 36/50\n",
      "68/68 [==============================] - 0s 2ms/sample - loss: 0.0255 - acc: 1.0000\n",
      "Epoch 37/50\n",
      "68/68 [==============================] - 0s 2ms/sample - loss: 0.0117 - acc: 1.0000\n",
      "Epoch 38/50\n",
      "68/68 [==============================] - 0s 2ms/sample - loss: 0.0322 - acc: 1.0000\n",
      "Epoch 39/50\n",
      "68/68 [==============================] - 0s 2ms/sample - loss: 0.0626 - acc: 0.9853\n",
      "Epoch 40/50\n",
      "68/68 [==============================] - 0s 2ms/sample - loss: 2.4183 - acc: 0.7500\n",
      "Epoch 41/50\n",
      "68/68 [==============================] - 0s 2ms/sample - loss: 0.3347 - acc: 0.9118\n",
      "Epoch 42/50\n",
      "68/68 [==============================] - 0s 2ms/sample - loss: 0.3179 - acc: 0.9118\n",
      "Epoch 43/50\n",
      "68/68 [==============================] - 0s 2ms/sample - loss: 0.2806 - acc: 0.8971\n",
      "Epoch 44/50\n",
      "68/68 [==============================] - 0s 2ms/sample - loss: 0.3304 - acc: 0.8676\n",
      "Epoch 45/50\n",
      "68/68 [==============================] - 0s 2ms/sample - loss: 0.2063 - acc: 0.9118\n",
      "Epoch 46/50\n",
      "68/68 [==============================] - 0s 2ms/sample - loss: 0.0183 - acc: 1.0000\n",
      "Epoch 47/50\n",
      "68/68 [==============================] - 0s 2ms/sample - loss: 0.0513 - acc: 0.9706\n",
      "Epoch 48/50\n",
      "68/68 [==============================] - 0s 2ms/sample - loss: 0.0276 - acc: 0.9853\n",
      "Epoch 49/50\n",
      "68/68 [==============================] - 0s 2ms/sample - loss: 0.0330 - acc: 0.9853\n",
      "Epoch 50/50\n",
      "68/68 [==============================] - 0s 2ms/sample - loss: 0.0243 - acc: 1.0000\n"
     ]
    }
   ],
   "source": [
    "history=model.fit(X, Y, epochs=20, batch_size=1)\n"
   ]
  },
  {
   "cell_type": "code",
   "execution_count": 115,
   "metadata": {},
   "outputs": [
    {
     "name": "stdout",
     "output_type": "stream",
     "text": [
      "21/21 [==============================] - 0s 13ms/sample - loss: 0.1377 - acc: 1.0000\n",
      "Test accuracy: 1.0\n"
     ]
    }
   ],
   "source": [
    "test_loss, test_acc = model.evaluate(X_test, y_test)\n",
    "print('Test accuracy:', test_acc)"
   ]
  },
  {
   "cell_type": "code",
   "execution_count": 121,
   "metadata": {
    "collapsed": true
   },
   "outputs": [
    {
     "data": {
      "text/plain": [
       "array([[1.000000e+00, 3.673250e+02],\n",
       "       [2.000000e+00, 3.475130e+02],\n",
       "       [3.000000e+00, 3.302260e+02],\n",
       "       [4.000000e+00, 1.781060e+02],\n",
       "       [5.000000e+00, 3.788990e+02],\n",
       "       [6.000000e+00, 2.572120e+02],\n",
       "       [7.000000e+00, 3.330880e+02],\n",
       "       [8.000000e+00, 1.823240e+02],\n",
       "       [9.000000e+00, 2.380990e+02],\n",
       "       [1.000000e+01, 3.296430e+02],\n",
       "       [1.100000e+01, 4.204066e+03],\n",
       "       [1.200000e+01, 1.411733e+03],\n",
       "       [1.300000e+01, 4.197206e+03],\n",
       "       [1.400000e+01, 1.121866e+03],\n",
       "       [1.500000e+01, 8.206830e+02],\n",
       "       [1.600000e+01, 1.349887e+03],\n",
       "       [1.700000e+01, 3.128736e+03],\n",
       "       [1.800000e+01, 2.551433e+03],\n",
       "       [1.900000e+01, 8.091150e+02],\n",
       "       [2.000000e+01, 2.866623e+03],\n",
       "       [2.100000e+01, 2.946440e+02],\n",
       "       [2.200000e+01, 2.816660e+02],\n",
       "       [2.300000e+01, 3.080860e+02],\n",
       "       [2.400000e+01, 3.170790e+02],\n",
       "       [2.500000e+01, 2.451390e+02],\n",
       "       [2.600000e+01, 3.546620e+02],\n",
       "       [2.700000e+01, 2.922560e+02],\n",
       "       [2.800000e+01, 3.067900e+02],\n",
       "       [2.900000e+01, 2.223960e+02],\n",
       "       [3.000000e+01, 3.676280e+02],\n",
       "       [3.100000e+01, 1.193951e+03],\n",
       "       [3.200000e+01, 2.014445e+03],\n",
       "       [3.300000e+01, 4.400268e+03],\n",
       "       [3.400000e+01, 1.781718e+03],\n",
       "       [3.500000e+01, 3.711358e+03],\n",
       "       [3.600000e+01, 2.030189e+03],\n",
       "       [3.700000e+01, 8.450190e+02],\n",
       "       [3.800000e+01, 1.925183e+03],\n",
       "       [3.900000e+01, 1.549089e+03],\n",
       "       [4.000000e+01, 1.953371e+03],\n",
       "       [4.100000e+01, 3.421150e+02],\n",
       "       [4.200000e+01, 3.533260e+02],\n",
       "       [4.300000e+01, 3.363900e+02],\n",
       "       [4.400000e+01, 2.980080e+02],\n",
       "       [4.500000e+01, 2.663960e+02],\n",
       "       [4.600000e+01, 2.435540e+02],\n",
       "       [4.700000e+01, 1.721840e+02],\n",
       "       [4.800000e+01, 3.624790e+02],\n",
       "       [4.900000e+01, 2.499810e+02],\n",
       "       [5.000000e+01, 3.278770e+02],\n",
       "       [5.100000e+01, 2.866960e+02],\n",
       "       [5.200000e+01, 1.827620e+02],\n",
       "       [5.300000e+01, 3.383470e+02],\n",
       "       [5.400000e+01, 3.025700e+02],\n",
       "       [5.500000e+01, 1.058649e+03],\n",
       "       [5.600000e+01, 9.560210e+02],\n",
       "       [5.700000e+01, 2.089824e+03],\n",
       "       [5.800000e+01, 2.198033e+03],\n",
       "       [5.900000e+01, 4.538527e+03],\n",
       "       [6.000000e+01, 3.137934e+03],\n",
       "       [6.100000e+01, 2.002459e+03],\n",
       "       [6.200000e+01, 2.136376e+03],\n",
       "       [6.300000e+01, 9.325000e+02],\n",
       "       [6.400000e+01, 9.245540e+02],\n",
       "       [6.500000e+01, 2.386011e+03],\n",
       "       [6.600000e+01, 2.112875e+03],\n",
       "       [6.700000e+01, 3.568877e+03],\n",
       "       [6.800000e+01, 4.104984e+03]])"
      ]
     },
     "execution_count": 121,
     "metadata": {},
     "output_type": "execute_result"
    }
   ],
   "source": [
    "a= dftest.values\n",
    "a"
   ]
  },
  {
   "cell_type": "code",
   "execution_count": 123,
   "metadata": {},
   "outputs": [],
   "source": [
    "Ypred=model.predict(a)"
   ]
  },
  {
   "cell_type": "code",
   "execution_count": 202,
   "metadata": {},
   "outputs": [],
   "source": [
    "convert1=pd.DataFrame(Ypred.flatten())\n",
    "convert1.to_csv('cnnpred.csv', index=False)"
   ]
  },
  {
   "cell_type": "code",
   "execution_count": null,
   "metadata": {},
   "outputs": [],
   "source": []
  }
 ],
 "metadata": {
  "kernelspec": {
   "display_name": "Python 3",
   "language": "python",
   "name": "python3"
  },
  "language_info": {
   "codemirror_mode": {
    "name": "ipython",
    "version": 3
   },
   "file_extension": ".py",
   "mimetype": "text/x-python",
   "name": "python",
   "nbconvert_exporter": "python",
   "pygments_lexer": "ipython3",
   "version": "3.7.3"
  },
  "toc": {
   "base_numbering": 1,
   "nav_menu": {},
   "number_sections": false,
   "sideBar": true,
   "skip_h1_title": false,
   "title_cell": "Table of Contents",
   "title_sidebar": "Contents",
   "toc_cell": false,
   "toc_position": {},
   "toc_section_display": true,
   "toc_window_display": false
  },
  "varInspector": {
   "cols": {
    "lenName": 16,
    "lenType": 16,
    "lenVar": 40
   },
   "kernels_config": {
    "python": {
     "delete_cmd_postfix": "",
     "delete_cmd_prefix": "del ",
     "library": "var_list.py",
     "varRefreshCmd": "print(var_dic_list())"
    },
    "r": {
     "delete_cmd_postfix": ") ",
     "delete_cmd_prefix": "rm(",
     "library": "var_list.r",
     "varRefreshCmd": "cat(var_dic_list()) "
    }
   },
   "types_to_exclude": [
    "module",
    "function",
    "builtin_function_or_method",
    "instance",
    "_Feature"
   ],
   "window_display": false
  }
 },
 "nbformat": 4,
 "nbformat_minor": 2
}
